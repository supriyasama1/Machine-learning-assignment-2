{
 "cells": [
  {
   "cell_type": "code",
   "execution_count": 3,
   "id": "5d556573",
   "metadata": {},
   "outputs": [
    {
     "name": "stdout",
     "output_type": "stream",
     "text": [
      "unique list: [1, 2, 3, 4, 5]\n"
     ]
    }
   ],
   "source": [
    "#defining unique list\n",
    "def unique_list(input_list):\n",
    "#create an empty list to store unique items\n",
    "    unique_items = []\n",
    "#iterating through each item in the original list\n",
    "    for item in input_list:\n",
    "        if item not in unique_items:\n",
    "#appending items to unique items\n",
    "            unique_items.append(item)\n",
    "#returning unique items list\n",
    "    return unique_items\n",
    "\n",
    "input_list = [1,2,3,3,3,3,4,5]\n",
    "unique_items = unique_list(input_list)\n",
    "#printing unique list\n",
    "print(\"unique list:\", unique_items)"
   ]
  },
  {
   "cell_type": "code",
   "execution_count": null,
   "id": "86bf0927",
   "metadata": {},
   "outputs": [],
   "source": []
  }
 ],
 "metadata": {
  "kernelspec": {
   "display_name": "Python 3 (ipykernel)",
   "language": "python",
   "name": "python3"
  },
  "language_info": {
   "codemirror_mode": {
    "name": "ipython",
    "version": 3
   },
   "file_extension": ".py",
   "mimetype": "text/x-python",
   "name": "python",
   "nbconvert_exporter": "python",
   "pygments_lexer": "ipython3",
   "version": "3.11.1"
  }
 },
 "nbformat": 4,
 "nbformat_minor": 5
}
