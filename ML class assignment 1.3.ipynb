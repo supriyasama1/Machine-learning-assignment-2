{
 "cells": [
  {
   "cell_type": "code",
   "execution_count": 2,
   "id": "17d48b60",
   "metadata": {},
   "outputs": [
    {
     "name": "stdout",
     "output_type": "stream",
     "text": [
      "Elements: [23, 'python', 23.98]\n",
      "Types: [<class 'int'>, <class 'str'>, <class 'float'>]\n"
     ]
    }
   ],
   "source": [
    "#given list\n",
    "x = [23, 'python', 23.98]\n",
    "type_list = []\n",
    "#using for loop to append the type of elements\n",
    "for item in x:\n",
    "    type_list.append(type(item))\n",
    "#printing elements\n",
    "print(\"Elements:\", x)\n",
    "#printing data type\n",
    "print(\"Types:\", type_list)"
   ]
  },
  {
   "cell_type": "code",
   "execution_count": null,
   "id": "53bafda2",
   "metadata": {},
   "outputs": [],
   "source": []
  }
 ],
 "metadata": {
  "kernelspec": {
   "display_name": "Python 3 (ipykernel)",
   "language": "python",
   "name": "python3"
  },
  "language_info": {
   "codemirror_mode": {
    "name": "ipython",
    "version": 3
   },
   "file_extension": ".py",
   "mimetype": "text/x-python",
   "name": "python",
   "nbconvert_exporter": "python",
   "pygments_lexer": "ipython3",
   "version": "3.11.1"
  }
 },
 "nbformat": 4,
 "nbformat_minor": 5
}
