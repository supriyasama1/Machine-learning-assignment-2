{
 "cells": [
  {
   "cell_type": "code",
   "execution_count": 6,
   "id": "d846d9a9",
   "metadata": {},
   "outputs": [
    {
     "name": "stdout",
     "output_type": "stream",
     "text": [
      "No. of upper-case characters: 3\n",
      "No. of lower-case characters: 12\n"
     ]
    }
   ],
   "source": [
    "#defining case count\n",
    "def case_count(string):\n",
    "    upper_count = 0\n",
    "    lower_count = 0\n",
    "#iterating through each character in the string\n",
    "    for char in string:\n",
    "#check if character is upper case\n",
    "        if char.isupper():\n",
    "            upper_count += 1\n",
    "#check if character is lower case\n",
    "        elif char.islower():\n",
    "                lower_count += 1\n",
    "#return the values\n",
    "    return (upper_count, lower_count)\n",
    "\n",
    "#given string\n",
    "string = 'The quick Brow Fox'\n",
    "upper_count, lower_count = case_count(string)\n",
    "#printing results\n",
    "print(\"No. of upper-case characters:\", upper_count)\n",
    "print(\"No. of lower-case characters:\", lower_count)"
   ]
  },
  {
   "cell_type": "code",
   "execution_count": null,
   "id": "8c60621e",
   "metadata": {},
   "outputs": [],
   "source": []
  },
  {
   "cell_type": "code",
   "execution_count": null,
   "id": "7a4171f3",
   "metadata": {},
   "outputs": [],
   "source": []
  }
 ],
 "metadata": {
  "kernelspec": {
   "display_name": "Python 3 (ipykernel)",
   "language": "python",
   "name": "python3"
  },
  "language_info": {
   "codemirror_mode": {
    "name": "ipython",
    "version": 3
   },
   "file_extension": ".py",
   "mimetype": "text/x-python",
   "name": "python",
   "nbconvert_exporter": "python",
   "pygments_lexer": "ipython3",
   "version": "3.11.1"
  }
 },
 "nbformat": 4,
 "nbformat_minor": 5
}
